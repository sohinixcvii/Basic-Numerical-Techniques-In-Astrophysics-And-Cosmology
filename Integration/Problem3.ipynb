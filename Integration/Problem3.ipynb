{
 "cells": [
  {
   "attachments": {
    "2aa5a618-2233-4dab-a5ce-23826911c8f3.png": {
     "image/png": "[encoded data removed]"
    }
   },
   "cell_type": "markdown",
   "metadata": {},
   "source": [
    "# Problem 4.3\n",
    "![image.png](attachment:2aa5a618-2233-4dab-a5ce-23826911c8f3.png)"
   ]
  },
  {
   "cell_type": "code",
   "execution_count": 3,
   "metadata": {},
   "outputs": [],
   "source": [
    "#importing all the necessary packages\n",
    "import numpy as np\n",
    "from scipy.integrate import quad\n",
    "import sympy as sy\n",
    "import math as m    "
   ]
  },
  {
   "cell_type": "code",
   "execution_count": 21,
   "metadata": {},
   "outputs": [],
   "source": [
    "#defining functions for the integrand\n",
    "\n",
    "#returns float values\n",
    "def f(x):\n",
    "    return [((np.sin(xi)**2)/(xi**2)) for xi in x]\n",
    "\n",
    "#returns an array value\n",
    "def f1(xi):\n",
    "    return ((np.sin(xi)**2)/(xi**2))"
   ]
  },
  {
   "cell_type": "code",
   "execution_count": 18,
   "metadata": {},
   "outputs": [],
   "source": [
    "'''Defining a function for the Simpsons rule\n",
    "x: the array of values over which the integrand needs to be integrated.\n",
    "'''\n",
    "def simp(x):\n",
    "    h=(max(x)-min(x))/len(x)\n",
    "    n=len(x)\n",
    "    y=f(x)\n",
    "    s1=0\n",
    "    s2=0\n",
    "    for i in range(1,n-1):\n",
    "        if i%2==0:\n",
    "            s2=s2+y[i]\n",
    "        else:\n",
    "            s1=s1+y[i]\n",
    "    I=2*(h/3)*(y[0]+4*s1+2*s2+y[-1])\n",
    "    return I"
   ]
  },
  {
   "cell_type": "code",
   "execution_count": 19,
   "metadata": {},
   "outputs": [
    {
     "name": "stdout",
     "output_type": "stream",
     "text": [
      "3.1415902234468627\n"
     ]
    }
   ],
   "source": [
    "#Defining the array x (integration limit)\n",
    "x=np.linspace(0.000001,10000000,10000000)\n",
    "\n",
    "#performing integration and printing the result\n",
    "res=simp(x)\n",
    "print(\"The integration result is: \"+str(res))"
   ]
  },
  {
   "cell_type": "markdown",
   "metadata": {},
   "source": [
    "## Analytical Integration:\n",
    "Analytical integration of this problem using the residue theorem (from complex analysis) yields the value $\\pi$. \n",
    "As we  can see above, the numerical integration using Simpson's rule also yields a value which is quite similar to pi. \n",
    "In fact, we can calculate the error as below:"
   ]
  },
  {
   "cell_type": "code",
   "execution_count": 24,
   "metadata": {},
   "outputs": [
    {
     "name": "stdout",
     "output_type": "stream",
     "text": [
      "Error: -7.73538519599645e-05%\n"
     ]
    }
   ],
   "source": [
    "er=(res-np.pi)/np.pi\n",
    "print(\"Error: \"+str(er*100)+\"%\")"
   ]
  },
  {
   "cell_type": "markdown",
   "metadata": {},
   "source": [
    "This is indeed a miniscule error."
   ]
  },
  {
   "cell_type": "markdown",
   "metadata": {},
   "source": [
    "## Choice of Simpson's Rule for numerical integration\n",
    "Of the two numerical methods used in the previous problem, trapezoidal rule and Simpsons rule, we picked Simpson's rule for performing the numerical integration in this case since this rule gives the least error out of the two."
   ]
  },
  {
   "cell_type": "code",
   "execution_count": null,
   "metadata": {},
   "outputs": [],
   "source": []
  }
 ],
 "metadata": {
  "kernelspec": {
   "display_name": "Python 3",
   "language": "python",
   "name": "python3"
  },
  "language_info": {
   "codemirror_mode": {
    "name": "ipython",
    "version": 3
   },
   "file_extension": ".py",
   "mimetype": "text/x-python",
   "name": "python",
   "nbconvert_exporter": "python",
   "pygments_lexer": "ipython3",
   "version": "3.8.3"
  }
 },
 "nbformat": 4,
 "nbformat_minor": 4
}
